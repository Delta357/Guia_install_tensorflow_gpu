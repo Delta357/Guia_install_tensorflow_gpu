{
 "cells": [
  {
   "cell_type": "markdown",
   "id": "581ed7e0",
   "metadata": {},
   "source": [
    "# Guia tensorflow - GPU"
   ]
  },
  {
   "cell_type": "code",
   "execution_count": null,
   "id": "b5f50662",
   "metadata": {},
   "outputs": [],
   "source": [
    "# Instalação por comando anaconda\n",
    "!conda install -c anaconda tensorflow-gpu "
   ]
  },
  {
   "cell_type": "code",
   "execution_count": null,
   "id": "37c3aa2e",
   "metadata": {},
   "outputs": [],
   "source": [
    "# Instalação por comando pip\n",
    "!pip install tensorflow-gpu==2.10.0"
   ]
  },
  {
   "cell_type": "markdown",
   "id": "2d0f7afc",
   "metadata": {},
   "source": [
    "# Versão tensorflow"
   ]
  },
  {
   "cell_type": "code",
   "execution_count": 2,
   "id": "35648895",
   "metadata": {},
   "outputs": [
    {
     "name": "stdout",
     "output_type": "stream",
     "text": [
      "2.10.0\n"
     ]
    }
   ],
   "source": [
    "import tensorflow as tf\n",
    "\n",
    "print(tf.__version__)"
   ]
  },
  {
   "cell_type": "code",
   "execution_count": 27,
   "id": "9bc544da",
   "metadata": {},
   "outputs": [
    {
     "name": "stdout",
     "output_type": "stream",
     "text": [
      "Versão biblioteca Python 3.9.13 (main, Aug 25 2022, 23:51:50) [MSC v.1916 64 bit (AMD64)]\n",
      "\n",
      "Versão biblioteca Pandas 1.4.4\n",
      "\n",
      "Versão biblioteca Scikit-Learn 1.2.2\n",
      "\n",
      "Versão biblioteca Numpy 1.24.3\n",
      "\n",
      "Versão biblioteca Seaborn 0.12.2\n",
      "\n",
      "Versão biblioteca Matplotlib: 3.7.1\n",
      "\n",
      "Versão biblioteca NLTK: 3.7\n"
     ]
    }
   ],
   "source": [
    "# Versão das bibliotecas geral\n",
    "import sys\n",
    "import nltk\n",
    "import numpy as np\n",
    "import seaborn as sns\n",
    "import matplotlib\n",
    "import pandas as pd\n",
    "import sklearn as sk\n",
    "\n",
    "print(f\"Versão biblioteca Python {sys.version}\")\n",
    "print()\n",
    "print(f\"Versão biblioteca Pandas {pd.__version__}\")\n",
    "print()\n",
    "print(f\"Versão biblioteca Scikit-Learn {sk.__version__}\")\n",
    "print()\n",
    "print(f\"Versão biblioteca Numpy {np.__version__}\")\n",
    "print()\n",
    "print(f\"Versão biblioteca Seaborn {sns.__version__}\")\n",
    "print()\n",
    "print('Versão biblioteca Matplotlib: {}'.format(matplotlib.__version__))\n",
    "print()\n",
    "print('Versão biblioteca NLTK: {}'.format(nltk.__version__))"
   ]
  },
  {
   "cell_type": "markdown",
   "id": "31291dc7",
   "metadata": {},
   "source": [
    "# GPU"
   ]
  },
  {
   "cell_type": "code",
   "execution_count": 32,
   "id": "1efef6f3",
   "metadata": {},
   "outputs": [
    {
     "name": "stdout",
     "output_type": "stream",
     "text": [
      "Tue Jun 13 22:31:17 2023       \n",
      "+---------------------------------------------------------------------------------------+\n",
      "| NVIDIA-SMI 535.98                 Driver Version: 535.98       CUDA Version: 12.2     |\n",
      "|-----------------------------------------+----------------------+----------------------+\n",
      "| GPU  Name                     TCC/WDDM  | Bus-Id        Disp.A | Volatile Uncorr. ECC |\n",
      "| Fan  Temp   Perf          Pwr:Usage/Cap |         Memory-Usage | GPU-Util  Compute M. |\n",
      "|                                         |                      |               MIG M. |\n",
      "|=========================================+======================+======================|\n",
      "|   0  NVIDIA GeForce RTX 3050 ...  WDDM  | 00000000:01:00.0 Off |                  N/A |\n",
      "| N/A   49C    P8               5W /  80W |    679MiB /  4096MiB |      0%      Default |\n",
      "|                                         |                      |                  N/A |\n",
      "+-----------------------------------------+----------------------+----------------------+\n",
      "                                                                                         \n",
      "+---------------------------------------------------------------------------------------+\n",
      "| Processes:                                                                            |\n",
      "|  GPU   GI   CI        PID   Type   Process name                            GPU Memory |\n",
      "|        ID   ID                                                             Usage      |\n",
      "|=======================================================================================|\n",
      "|    0   N/A  N/A     36308      C   C:\\Users\\rafae\\anaconda3\\python.exe       N/A      |\n",
      "|    0   N/A  N/A    105008      C   C:\\Users\\rafae\\anaconda3\\python.exe       N/A      |\n",
      "+---------------------------------------------------------------------------------------+\n"
     ]
    }
   ],
   "source": [
    "!nvidia-smi"
   ]
  },
  {
   "cell_type": "markdown",
   "id": "2d633e80",
   "metadata": {},
   "source": [
    "# Tensorflow GPU"
   ]
  },
  {
   "cell_type": "code",
   "execution_count": 28,
   "id": "89a91709",
   "metadata": {},
   "outputs": [
    {
     "name": "stdout",
     "output_type": "stream",
     "text": [
      "Tensorflow versão: 2.10.0\n",
      "\n",
      "Keras versão: 2.10.0\n"
     ]
    }
   ],
   "source": [
    "import tensorflow as tf\n",
    "import tensorflow.keras\n",
    "\n",
    "print(f\"Tensorflow versão: {tf.__version__}\")\n",
    "print()\n",
    "print(f\"Keras versão: {tensorflow.keras.__version__}\")"
   ]
  },
  {
   "cell_type": "code",
   "execution_count": 29,
   "id": "ea4cb6cd",
   "metadata": {},
   "outputs": [
    {
     "name": "stdout",
     "output_type": "stream",
     "text": [
      "Tensorflow GPU\n",
      "\n",
      "True\n"
     ]
    }
   ],
   "source": [
    "print(f\"Tensorflow GPU\")\n",
    "print()\n",
    "print(len(tf.config.list_physical_devices('GPU'))>0)"
   ]
  },
  {
   "cell_type": "code",
   "execution_count": 10,
   "id": "10a3b5f2",
   "metadata": {},
   "outputs": [
    {
     "name": "stdout",
     "output_type": "stream",
     "text": [
      "Tensorflow GPU\n",
      "GPU é Ativada\n"
     ]
    }
   ],
   "source": [
    "print(f\"Tensorflow GPU\")\n",
    "print(\"GPU é\", \"Ativada\" if tf.test.is_gpu_available() else \"NAO ATIVADA\")"
   ]
  },
  {
   "cell_type": "markdown",
   "id": "81476839",
   "metadata": {},
   "source": [
    "# Driver CUDA"
   ]
  },
  {
   "cell_type": "code",
   "execution_count": 30,
   "id": "61a028a7",
   "metadata": {},
   "outputs": [
    {
     "name": "stdout",
     "output_type": "stream",
     "text": [
      "nvcc: NVIDIA (R) Cuda compiler driver\n",
      "Copyright (c) 2005-2023 NVIDIA Corporation\n",
      "Built on Mon_Apr__3_17:36:15_Pacific_Daylight_Time_2023\n",
      "Cuda compilation tools, release 12.1, V12.1.105\n",
      "Build cuda_12.1.r12.1/compiler.32688072_0\n"
     ]
    }
   ],
   "source": [
    "! nvcc --version"
   ]
  },
  {
   "cell_type": "code",
   "execution_count": 31,
   "id": "c11c2509",
   "metadata": {},
   "outputs": [
    {
     "name": "stdout",
     "output_type": "stream",
     "text": [
      "__CUDA VERSION\n",
      "__CUDNN VERSION: 8700\n",
      "__Number CUDA Devices: 1\n",
      "__Devices\n"
     ]
    }
   ],
   "source": [
    "import torch\n",
    "import sys\n",
    "print('__CUDA VERSION', )\n",
    "\n",
    "from subprocess import call\n",
    "print('__CUDNN VERSION:', torch.backends.cudnn.version())\n",
    "print('__Number CUDA Devices:', torch.cuda.device_count())\n",
    "print('__Devices')"
   ]
  },
  {
   "cell_type": "markdown",
   "id": "3929eeba",
   "metadata": {},
   "source": [
    "# Números com gpu "
   ]
  },
  {
   "cell_type": "code",
   "execution_count": 11,
   "id": "8fa92c6e",
   "metadata": {},
   "outputs": [
    {
     "name": "stdout",
     "output_type": "stream",
     "text": [
      "Números de gpu ativada:  1\n"
     ]
    }
   ],
   "source": [
    "import tensorflow as tf\n",
    "print(\"Números de gpu ativada:\", len(tf.config.list_physical_devices('GPU')))"
   ]
  },
  {
   "cell_type": "code",
   "execution_count": null,
   "id": "d67a30aa",
   "metadata": {},
   "outputs": [],
   "source": []
  },
  {
   "cell_type": "code",
   "execution_count": null,
   "id": "865f154b",
   "metadata": {},
   "outputs": [],
   "source": []
  }
 ],
 "metadata": {
  "kernelspec": {
   "display_name": "Python 3 (ipykernel)",
   "language": "python",
   "name": "python3"
  },
  "language_info": {
   "codemirror_mode": {
    "name": "ipython",
    "version": 3
   },
   "file_extension": ".py",
   "mimetype": "text/x-python",
   "name": "python",
   "nbconvert_exporter": "python",
   "pygments_lexer": "ipython3",
   "version": "3.9.13"
  }
 },
 "nbformat": 4,
 "nbformat_minor": 5
}
