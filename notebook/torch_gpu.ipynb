{
 "cells": [
  {
   "cell_type": "markdown",
   "id": "a3427e47",
   "metadata": {},
   "source": [
    "# Guia Torch - GPU"
   ]
  },
  {
   "cell_type": "code",
   "execution_count": null,
   "id": "e8e8f3f0",
   "metadata": {},
   "outputs": [],
   "source": [
    "# Comando instalação por anaconda\n",
    "!conda install pytorch torchvision torchaudio pytorch-cuda=11.7 -c pytorch -c nvidia"
   ]
  },
  {
   "cell_type": "code",
   "execution_count": null,
   "id": "3ca27492",
   "metadata": {},
   "outputs": [],
   "source": [
    "# Comando por instalação por pip\n",
    "!pip install pytorch torchvision torchaudio pytorch-cuda=11.7 -c pytorch -c nvidia"
   ]
  },
  {
   "cell_type": "markdown",
   "id": "b765c977",
   "metadata": {},
   "source": [
    "## Versão Torch"
   ]
  },
  {
   "cell_type": "code",
   "execution_count": 2,
   "id": "040da9b3",
   "metadata": {},
   "outputs": [
    {
     "name": "stdout",
     "output_type": "stream",
     "text": [
      "2.0.1\n"
     ]
    }
   ],
   "source": [
    "import torch\n",
    "\n",
    "print(torch.__version__)"
   ]
  },
  {
   "cell_type": "code",
   "execution_count": 2,
   "id": "55d3b95f",
   "metadata": {},
   "outputs": [
    {
     "name": "stdout",
     "output_type": "stream",
     "text": [
      "Versão biblioteca Python 3.9.13 (main, Aug 25 2022, 23:51:50) [MSC v.1916 64 bit (AMD64)]\n",
      "\n",
      "Versão biblioteca Pandas 1.4.4\n",
      "\n",
      "Versão biblioteca Scikit-Learn 1.2.2\n",
      "\n",
      "Versão biblioteca Numpy 1.24.3\n",
      "\n",
      "Versão biblioteca Seaborn 0.12.2\n",
      "\n",
      "Versão biblioteca Matplotlib: 3.7.1\n",
      "\n",
      "Versão biblioteca NLTK: 3.7\n"
     ]
    }
   ],
   "source": [
    "# Versão das bibliotecas geral\n",
    "import sys\n",
    "import nltk\n",
    "import numpy as np\n",
    "import seaborn as sns\n",
    "import matplotlib\n",
    "import pandas as pd\n",
    "import sklearn as sk\n",
    "\n",
    "print(f\"Versão biblioteca Python {sys.version}\")\n",
    "print()\n",
    "print(f\"Versão biblioteca Pandas {pd.__version__}\")\n",
    "print()\n",
    "print(f\"Versão biblioteca Scikit-Learn {sk.__version__}\")\n",
    "print()\n",
    "print(f\"Versão biblioteca Numpy {np.__version__}\")\n",
    "print()\n",
    "print(f\"Versão biblioteca Seaborn {sns.__version__}\")\n",
    "print()\n",
    "print('Versão biblioteca Matplotlib: {}'.format(matplotlib.__version__))\n",
    "print()\n",
    "print('Versão biblioteca NLTK: {}'.format(nltk.__version__))"
   ]
  },
  {
   "cell_type": "markdown",
   "id": "84d673cc",
   "metadata": {},
   "source": [
    "# Versão driver CUDA"
   ]
  },
  {
   "cell_type": "code",
   "execution_count": 36,
   "id": "0a12cddf",
   "metadata": {},
   "outputs": [
    {
     "name": "stdout",
     "output_type": "stream",
     "text": [
      "nvcc: NVIDIA (R) Cuda compiler driver\n",
      "Copyright (c) 2005-2023 NVIDIA Corporation\n",
      "Built on Mon_Apr__3_17:36:15_Pacific_Daylight_Time_2023\n",
      "Cuda compilation tools, release 12.1, V12.1.105\n",
      "Build cuda_12.1.r12.1/compiler.32688072_0\n"
     ]
    }
   ],
   "source": [
    "! nvcc --version"
   ]
  },
  {
   "cell_type": "code",
   "execution_count": 35,
   "id": "07cc2237",
   "metadata": {},
   "outputs": [
    {
     "name": "stdout",
     "output_type": "stream",
     "text": [
      "__CUDA VERSION\n",
      "__CUDNN VERSION: 8700\n",
      "__Number CUDA Devices: 1\n",
      "__Devices\n"
     ]
    }
   ],
   "source": [
    "import torch\n",
    "import sys\n",
    "print('__CUDA VERSION', )\n",
    "\n",
    "from subprocess import call\n",
    "print('__CUDNN VERSION:', torch.backends.cudnn.version())\n",
    "print('__Number CUDA Devices:', torch.cuda.device_count())\n",
    "print('__Devices')"
   ]
  },
  {
   "cell_type": "markdown",
   "id": "6881483f",
   "metadata": {},
   "source": [
    "# Torch GPU"
   ]
  },
  {
   "cell_type": "code",
   "execution_count": 17,
   "id": "5e6c1e96",
   "metadata": {},
   "outputs": [
    {
     "name": "stdout",
     "output_type": "stream",
     "text": [
      "Tue Jun 13 22:16:55 2023       \n",
      "+---------------------------------------------------------------------------------------+\n",
      "| NVIDIA-SMI 535.98                 Driver Version: 535.98       CUDA Version: 12.2     |\n",
      "|-----------------------------------------+----------------------+----------------------+\n",
      "| GPU  Name                     TCC/WDDM  | Bus-Id        Disp.A | Volatile Uncorr. ECC |\n",
      "| Fan  Temp   Perf          Pwr:Usage/Cap |         Memory-Usage | GPU-Util  Compute M. |\n",
      "|                                         |                      |               MIG M. |\n",
      "|=========================================+======================+======================|\n",
      "|   0  NVIDIA GeForce RTX 3050 ...  WDDM  | 00000000:01:00.0 Off |                  N/A |\n",
      "| N/A   50C    P8               5W /  80W |    679MiB /  4096MiB |      0%      Default |\n",
      "|                                         |                      |                  N/A |\n",
      "+-----------------------------------------+----------------------+----------------------+\n",
      "                                                                                         \n",
      "+---------------------------------------------------------------------------------------+\n",
      "| Processes:                                                                            |\n",
      "|  GPU   GI   CI        PID   Type   Process name                            GPU Memory |\n",
      "|        ID   ID                                                             Usage      |\n",
      "|=======================================================================================|\n",
      "|    0   N/A  N/A     36308      C   C:\\Users\\rafae\\anaconda3\\python.exe       N/A      |\n",
      "|    0   N/A  N/A    105008      C   C:\\Users\\rafae\\anaconda3\\python.exe       N/A      |\n",
      "+---------------------------------------------------------------------------------------+\n"
     ]
    }
   ],
   "source": [
    "!nvidia-smi"
   ]
  },
  {
   "cell_type": "code",
   "execution_count": 3,
   "id": "87e347ba",
   "metadata": {},
   "outputs": [
    {
     "name": "stdout",
     "output_type": "stream",
     "text": [
      "GPU é Ativada\n"
     ]
    }
   ],
   "source": [
    "import torch\n",
    "print(\"GPU é\", \"Ativada\" if torch.cuda.is_available() else \"NAO ATIVADA\")"
   ]
  },
  {
   "cell_type": "markdown",
   "id": "66c3ebdd",
   "metadata": {},
   "source": [
    "# Números com gpu "
   ]
  },
  {
   "cell_type": "code",
   "execution_count": 6,
   "id": "3e8e03db",
   "metadata": {},
   "outputs": [
    {
     "data": {
      "text/plain": [
       "1"
      ]
     },
     "execution_count": 6,
     "metadata": {},
     "output_type": "execute_result"
    }
   ],
   "source": [
    "import torch\n",
    "torch.cuda.device_count()"
   ]
  },
  {
   "cell_type": "code",
   "execution_count": 12,
   "id": "577aee99",
   "metadata": {},
   "outputs": [
    {
     "name": "stdout",
     "output_type": "stream",
     "text": [
      "Nome GPU: NVIDIA GeForce RTX 3050 Laptop GPU\n"
     ]
    }
   ],
   "source": [
    "print(\"Nome GPU:\", torch.cuda.get_device_name(0))"
   ]
  },
  {
   "cell_type": "code",
   "execution_count": 26,
   "id": "c9736dad",
   "metadata": {},
   "outputs": [
    {
     "name": "stdout",
     "output_type": "stream",
     "text": [
      "Drive usando: cuda\n",
      "\n",
      "Nome GPU: NVIDIA GeForce RTX 3050 Laptop GPU\n",
      "Mémoria usada GPU\n",
      "Alocado: 0.0 GB\n",
      "Em cache: 0.0 GB\n"
     ]
    }
   ],
   "source": [
    "# Verificando dados gpu com drive cuda\n",
    "\n",
    "dr = torch.device('cuda' if torch.cuda.is_available() else 'cpu')\n",
    "print(\"Drive usando:\", dr)\n",
    "print()\n",
    "\n",
    "# Info memorias usando driver CUDA\n",
    "if dr.type == \"cuda\":\n",
    "    print(\"Nome GPU:\", torch.cuda.get_device_name(0))\n",
    "    print(\"Mémoria usada GPU\")\n",
    "    print('Alocado:', round(torch.cuda.memory_allocated(0)/1024**3,1), 'GB')\n",
    "    print('Em cache:', round(torch.cuda.memory_reserved(0)/1024**3,1), 'GB')"
   ]
  },
  {
   "cell_type": "code",
   "execution_count": 23,
   "id": "fe7286b2",
   "metadata": {},
   "outputs": [
    {
     "data": {
      "text/plain": [
       "2097152"
      ]
     },
     "execution_count": 23,
     "metadata": {},
     "output_type": "execute_result"
    }
   ],
   "source": [
    "torch.cuda.max_memory_cached(device=None)"
   ]
  },
  {
   "cell_type": "code",
   "execution_count": 22,
   "id": "1d4eb18c",
   "metadata": {},
   "outputs": [
    {
     "data": {
      "text/plain": [
       "1024"
      ]
     },
     "execution_count": 22,
     "metadata": {},
     "output_type": "execute_result"
    }
   ],
   "source": [
    "torch.cuda.memory_allocated(device=None)"
   ]
  },
  {
   "cell_type": "markdown",
   "id": "e2fd66c4",
   "metadata": {},
   "source": [
    "# Exemplo aplicação torch"
   ]
  },
  {
   "cell_type": "code",
   "execution_count": 9,
   "id": "769f71c0",
   "metadata": {},
   "outputs": [
    {
     "data": {
      "text/plain": [
       "tensor([0.3403, 0.0389, 0.4149, 0.1765, 0.9495, 0.4123, 0.9397, 0.2980, 0.1978,\n",
       "        0.8762], device='cuda:0')"
      ]
     },
     "execution_count": 9,
     "metadata": {},
     "output_type": "execute_result"
    }
   ],
   "source": [
    "torch.rand(10).to(device)"
   ]
  },
  {
   "cell_type": "code",
   "execution_count": 10,
   "id": "9e57cd8b",
   "metadata": {},
   "outputs": [
    {
     "data": {
      "text/plain": [
       "tensor([0.0779, 0.8030, 0.7916, 0.0754, 0.8416, 0.0253, 0.3951, 0.7333, 0.8947,\n",
       "        0.5474], device='cuda:0')"
      ]
     },
     "execution_count": 10,
     "metadata": {},
     "output_type": "execute_result"
    }
   ],
   "source": [
    "torch.rand(10, device=device)"
   ]
  },
  {
   "cell_type": "code",
   "execution_count": null,
   "id": "b1bade25",
   "metadata": {},
   "outputs": [],
   "source": []
  }
 ],
 "metadata": {
  "kernelspec": {
   "display_name": "Python 3 (ipykernel)",
   "language": "python",
   "name": "python3"
  },
  "language_info": {
   "codemirror_mode": {
    "name": "ipython",
    "version": 3
   },
   "file_extension": ".py",
   "mimetype": "text/x-python",
   "name": "python",
   "nbconvert_exporter": "python",
   "pygments_lexer": "ipython3",
   "version": "3.9.13"
  }
 },
 "nbformat": 4,
 "nbformat_minor": 5
}
